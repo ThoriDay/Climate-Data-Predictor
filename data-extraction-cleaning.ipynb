{
 "cells": [
  {
   "cell_type": "markdown",
   "id": "638eb49d",
   "metadata": {
    "papermill": {
     "duration": 0.007043,
     "end_time": "2024-06-17T15:27:20.475584",
     "exception": false,
     "start_time": "2024-06-17T15:27:20.468541",
     "status": "completed"
    },
    "tags": []
   },
   "source": [
    "# Installing Necessary Libraries"
   ]
  },
  {
   "cell_type": "code",
   "execution_count": 1,
   "id": "775c805a",
   "metadata": {
    "execution": {
     "iopub.execute_input": "2024-06-17T15:27:20.491085Z",
     "iopub.status.busy": "2024-06-17T15:27:20.490678Z",
     "iopub.status.idle": "2024-06-17T15:27:23.266943Z",
     "shell.execute_reply": "2024-06-17T15:27:23.265641Z"
    },
    "papermill": {
     "duration": 2.787645,
     "end_time": "2024-06-17T15:27:23.270319",
     "exception": false,
     "start_time": "2024-06-17T15:27:20.482674",
     "status": "completed"
    },
    "tags": []
   },
   "outputs": [],
   "source": [
    "import pandas as pd\n",
    "import numpy as np\n",
    "import matplotlib.pyplot as plt\n",
    "from sklearn.impute import KNNImputer\n",
    "import calendar"
   ]
  },
  {
   "cell_type": "markdown",
   "id": "e144d1ae",
   "metadata": {
    "papermill": {
     "duration": 0.006555,
     "end_time": "2024-06-17T15:27:23.284020",
     "exception": false,
     "start_time": "2024-06-17T15:27:23.277465",
     "status": "completed"
    },
    "tags": []
   },
   "source": [
    "# Data Loading and Cleaning"
   ]
  },
  {
   "cell_type": "code",
   "execution_count": 2,
   "id": "567276c8",
   "metadata": {
    "execution": {
     "iopub.execute_input": "2024-06-17T15:27:23.299253Z",
     "iopub.status.busy": "2024-06-17T15:27:23.298697Z",
     "iopub.status.idle": "2024-06-17T15:27:24.083137Z",
     "shell.execute_reply": "2024-06-17T15:27:24.081239Z"
    },
    "papermill": {
     "duration": 0.794968,
     "end_time": "2024-06-17T15:27:24.085585",
     "exception": true,
     "start_time": "2024-06-17T15:27:23.290617",
     "status": "failed"
    },
    "scrolled": true,
    "tags": []
   },
   "outputs": [
    {
     "ename": "FileNotFoundError",
     "evalue": "[Errno 2] No such file or directory: 'oxforddata.txt'",
     "output_type": "error",
     "traceback": [
      "\u001b[0;31m---------------------------------------------------------------------------\u001b[0m",
      "\u001b[0;31mFileNotFoundError\u001b[0m                         Traceback (most recent call last)",
      "Cell \u001b[0;32mIn[2], line 17\u001b[0m\n\u001b[1;32m     15\u001b[0m \u001b[38;5;66;03m# Read the file and process the lines\u001b[39;00m\n\u001b[1;32m     16\u001b[0m data \u001b[38;5;241m=\u001b[39m []\n\u001b[0;32m---> 17\u001b[0m \u001b[38;5;28;01mwith\u001b[39;00m \u001b[38;5;28;43mopen\u001b[39;49m\u001b[43m(\u001b[49m\u001b[38;5;124;43m'\u001b[39;49m\u001b[38;5;124;43moxforddata.txt\u001b[39;49m\u001b[38;5;124;43m'\u001b[39;49m\u001b[43m,\u001b[49m\u001b[43m \u001b[49m\u001b[38;5;124;43m'\u001b[39;49m\u001b[38;5;124;43mr\u001b[39;49m\u001b[38;5;124;43m'\u001b[39;49m\u001b[43m)\u001b[49m \u001b[38;5;28;01mas\u001b[39;00m file:\n\u001b[1;32m     18\u001b[0m     \u001b[38;5;28;01mfor\u001b[39;00m line \u001b[38;5;129;01min\u001b[39;00m file:\n\u001b[1;32m     19\u001b[0m         cleaned_line \u001b[38;5;241m=\u001b[39m clean_line(line)\n",
      "File \u001b[0;32m/opt/conda/lib/python3.10/site-packages/IPython/core/interactiveshell.py:310\u001b[0m, in \u001b[0;36m_modified_open\u001b[0;34m(file, *args, **kwargs)\u001b[0m\n\u001b[1;32m    303\u001b[0m \u001b[38;5;28;01mif\u001b[39;00m file \u001b[38;5;129;01min\u001b[39;00m {\u001b[38;5;241m0\u001b[39m, \u001b[38;5;241m1\u001b[39m, \u001b[38;5;241m2\u001b[39m}:\n\u001b[1;32m    304\u001b[0m     \u001b[38;5;28;01mraise\u001b[39;00m \u001b[38;5;167;01mValueError\u001b[39;00m(\n\u001b[1;32m    305\u001b[0m         \u001b[38;5;124mf\u001b[39m\u001b[38;5;124m\"\u001b[39m\u001b[38;5;124mIPython won\u001b[39m\u001b[38;5;124m'\u001b[39m\u001b[38;5;124mt let you open fd=\u001b[39m\u001b[38;5;132;01m{\u001b[39;00mfile\u001b[38;5;132;01m}\u001b[39;00m\u001b[38;5;124m by default \u001b[39m\u001b[38;5;124m\"\u001b[39m\n\u001b[1;32m    306\u001b[0m         \u001b[38;5;124m\"\u001b[39m\u001b[38;5;124mas it is likely to crash IPython. If you know what you are doing, \u001b[39m\u001b[38;5;124m\"\u001b[39m\n\u001b[1;32m    307\u001b[0m         \u001b[38;5;124m\"\u001b[39m\u001b[38;5;124myou can use builtins\u001b[39m\u001b[38;5;124m'\u001b[39m\u001b[38;5;124m open.\u001b[39m\u001b[38;5;124m\"\u001b[39m\n\u001b[1;32m    308\u001b[0m     )\n\u001b[0;32m--> 310\u001b[0m \u001b[38;5;28;01mreturn\u001b[39;00m \u001b[43mio_open\u001b[49m\u001b[43m(\u001b[49m\u001b[43mfile\u001b[49m\u001b[43m,\u001b[49m\u001b[43m \u001b[49m\u001b[38;5;241;43m*\u001b[39;49m\u001b[43margs\u001b[49m\u001b[43m,\u001b[49m\u001b[43m \u001b[49m\u001b[38;5;241;43m*\u001b[39;49m\u001b[38;5;241;43m*\u001b[39;49m\u001b[43mkwargs\u001b[49m\u001b[43m)\u001b[49m\n",
      "\u001b[0;31mFileNotFoundError\u001b[0m: [Errno 2] No such file or directory: 'oxforddata.txt'"
     ]
    }
   ],
   "source": [
    "# Define the columns to be used\n",
    "columns = [\"yyyy\", \"mm\", \"tmax\", \"tmin\", \"af_days\", \"rain_mm\", \"sun_hours\"]\n",
    "\n",
    "# Function to clean and parse a line of data\n",
    "def clean_line(line):\n",
    "    line = line.strip()\n",
    "    if \"Provisional\" in line:\n",
    "        line = line.replace(\"Provisional\", \"\").strip()\n",
    "    parts = line.split()\n",
    "    if len(parts) == 7:\n",
    "        return parts\n",
    "    else:\n",
    "        return None\n",
    "\n",
    "# Read the file and process the lines\n",
    "data = []\n",
    "with open('oxforddata.txt', 'r') as file:\n",
    "    for line in file:\n",
    "        cleaned_line = clean_line(line)\n",
    "        if cleaned_line:\n",
    "            data.append(cleaned_line)\n",
    "\n",
    "# Convert the processed data into a DataFrame\n",
    "df = pd.DataFrame(data, columns=columns)\n",
    "df['sun_hours'] = df['sun_hours'].str.replace('*', '')\n",
    "df['af_days'] = df['af_days'].str.replace('*', '')\n",
    "df['tmax'] = df['tmax'].str.replace('*','')\n",
    "df['tmin'] = df['tmin'].str.replace('*','')\n",
    "df['rain_mm'] = df['rain_mm'].str.replace('*','')\n",
    "df = df.drop(index=0)\n",
    "df = df.apply(pd.to_numeric, errors='coerce') \n",
    "df.head()"
   ]
  },
  {
   "cell_type": "code",
   "execution_count": null,
   "id": "357c04b9",
   "metadata": {
    "papermill": {
     "duration": null,
     "end_time": null,
     "exception": null,
     "start_time": null,
     "status": "pending"
    },
    "tags": []
   },
   "outputs": [],
   "source": [
    "df.tail()"
   ]
  },
  {
   "cell_type": "markdown",
   "id": "4531f112",
   "metadata": {
    "papermill": {
     "duration": null,
     "end_time": null,
     "exception": null,
     "start_time": null,
     "status": "pending"
    },
    "tags": []
   },
   "source": [
    "# EDA For Missing Values"
   ]
  },
  {
   "cell_type": "code",
   "execution_count": null,
   "id": "1cd31493",
   "metadata": {
    "papermill": {
     "duration": null,
     "end_time": null,
     "exception": null,
     "start_time": null,
     "status": "pending"
    },
    "tags": []
   },
   "outputs": [],
   "source": [
    "df.info()"
   ]
  },
  {
   "cell_type": "code",
   "execution_count": null,
   "id": "24eb100c",
   "metadata": {
    "papermill": {
     "duration": null,
     "end_time": null,
     "exception": null,
     "start_time": null,
     "status": "pending"
    },
    "tags": []
   },
   "outputs": [],
   "source": [
    "df.isnull().sum()"
   ]
  },
  {
   "cell_type": "code",
   "execution_count": null,
   "id": "adb78e4c",
   "metadata": {
    "papermill": {
     "duration": null,
     "end_time": null,
     "exception": null,
     "start_time": null,
     "status": "pending"
    },
    "scrolled": true,
    "tags": []
   },
   "outputs": [],
   "source": [
    "import seaborn as sns\n",
    "\n",
    "# Using Seaborn for scatter plot\n",
    "plt.figure(figsize=(10, 6))\n",
    "sns.scatterplot(x='mm', y='sun_hours', data=df)\n",
    "plt.title('Scatter Plot with Seaborn')\n",
    "plt.xlabel('Months')\n",
    "plt.ylabel('Sun Hours')\n",
    "plt.grid(True)\n",
    "plt.show()\n"
   ]
  },
  {
   "cell_type": "code",
   "execution_count": null,
   "id": "cf3a033c",
   "metadata": {
    "papermill": {
     "duration": null,
     "end_time": null,
     "exception": null,
     "start_time": null,
     "status": "pending"
    },
    "tags": []
   },
   "outputs": [],
   "source": [
    "plt.figure(figsize=(10, 6))\n",
    "sns.boxplot(x='mm', y='sun_hours', data=df, palette='Set2')\n",
    "plt.title('Box Plot of Sun Hours by Months')\n",
    "plt.xlabel('Months')\n",
    "plt.ylabel('Sun Hours')\n",
    "plt.grid(True)\n",
    "plt.show()\n"
   ]
  },
  {
   "cell_type": "code",
   "execution_count": null,
   "id": "958775c1",
   "metadata": {
    "papermill": {
     "duration": null,
     "end_time": null,
     "exception": null,
     "start_time": null,
     "status": "pending"
    },
    "scrolled": true,
    "tags": []
   },
   "outputs": [],
   "source": [
    "imputer = KNNImputer(n_neighbors=5)\n",
    "df_imputed = imputer.fit_transform(df)\n",
    "df = pd.DataFrame(df_imputed, columns=df.columns)\n",
    "\n",
    "plt.figure(figsize=(10, 6))\n",
    "sns.boxplot(x='mm', y='sun_hours', data=df, palette='Set2')\n",
    "plt.title('Box Plot of Sun Hours by Months')\n",
    "plt.xlabel('Months')\n",
    "plt.ylabel('Sun Hours')\n",
    "plt.grid(True)\n",
    "plt.show()"
   ]
  },
  {
   "cell_type": "code",
   "execution_count": null,
   "id": "cd0ac0a7",
   "metadata": {
    "papermill": {
     "duration": null,
     "end_time": null,
     "exception": null,
     "start_time": null,
     "status": "pending"
    },
    "tags": []
   },
   "outputs": [],
   "source": [
    "df.isnull().sum()"
   ]
  },
  {
   "cell_type": "markdown",
   "id": "e580f23b",
   "metadata": {
    "papermill": {
     "duration": null,
     "end_time": null,
     "exception": null,
     "start_time": null,
     "status": "pending"
    },
    "tags": []
   },
   "source": [
    "## FEATURE ENGINEERING"
   ]
  },
  {
   "cell_type": "code",
   "execution_count": null,
   "id": "8b392834",
   "metadata": {
    "papermill": {
     "duration": null,
     "end_time": null,
     "exception": null,
     "start_time": null,
     "status": "pending"
    },
    "tags": []
   },
   "outputs": [],
   "source": [
    "df['temp_range'] = df['tmax'] - df['tmin']\n",
    "df['avg_temp'] = (df['tmax'] + df['tmin']) / 2"
   ]
  },
  {
   "cell_type": "code",
   "execution_count": null,
   "id": "8c71f916",
   "metadata": {
    "papermill": {
     "duration": null,
     "end_time": null,
     "exception": null,
     "start_time": null,
     "status": "pending"
    },
    "tags": []
   },
   "outputs": [],
   "source": [
    "df[\"yyyy\"] = df[\"yyyy\"].astype(int)\n",
    "df[\"mm\"] = df[\"mm\"].astype(int)"
   ]
  },
  {
   "cell_type": "code",
   "execution_count": null,
   "id": "ef01f599",
   "metadata": {
    "papermill": {
     "duration": null,
     "end_time": null,
     "exception": null,
     "start_time": null,
     "status": "pending"
    },
    "tags": []
   },
   "outputs": [],
   "source": [
    "def assign_season(month):\n",
    "    if month in [12, 1, 2]:\n",
    "        return 1  # Winter\n",
    "    elif month in [3, 4, 5]:\n",
    "        return 2  # Spring\n",
    "    elif month in [6, 7, 8]:\n",
    "        return 3  # Summer\n",
    "    elif month in [9, 10, 11]:\n",
    "        return 4  # Autumn\n",
    "\n",
    "df['season'] = df['mm'].apply(assign_season)"
   ]
  },
  {
   "cell_type": "code",
   "execution_count": null,
   "id": "1c76990b",
   "metadata": {
    "papermill": {
     "duration": null,
     "end_time": null,
     "exception": null,
     "start_time": null,
     "status": "pending"
    },
    "scrolled": true,
    "tags": []
   },
   "outputs": [],
   "source": [
    "def calculate_days_in_month(row):\n",
    "    year = int(row['yyyy'])\n",
    "    month = int(row['mm'])\n",
    "    return calendar.monthrange(year, month)[1]\n",
    "\n",
    "df['days_in_month'] = df.apply(calculate_days_in_month, axis=1)\n"
   ]
  },
  {
   "cell_type": "code",
   "execution_count": null,
   "id": "cf79247b",
   "metadata": {
    "papermill": {
     "duration": null,
     "end_time": null,
     "exception": null,
     "start_time": null,
     "status": "pending"
    },
    "tags": []
   },
   "outputs": [],
   "source": [
    "df['montly_temp_variation'] = (df['tmax'] - df['tmin'])/ df['tmin']\n",
    "df['frost_day_props'] = df['af_days'] / df['days_in_month']"
   ]
  },
  {
   "cell_type": "code",
   "execution_count": null,
   "id": "5aab0410",
   "metadata": {
    "papermill": {
     "duration": null,
     "end_time": null,
     "exception": null,
     "start_time": null,
     "status": "pending"
    },
    "scrolled": true,
    "tags": []
   },
   "outputs": [],
   "source": [
    "df"
   ]
  },
  {
   "cell_type": "markdown",
   "id": "51dc89d6",
   "metadata": {
    "papermill": {
     "duration": null,
     "end_time": null,
     "exception": null,
     "start_time": null,
     "status": "pending"
    },
    "tags": []
   },
   "source": [
    "## Time Series"
   ]
  },
  {
   "cell_type": "code",
   "execution_count": null,
   "id": "4f5a11c6",
   "metadata": {
    "papermill": {
     "duration": null,
     "end_time": null,
     "exception": null,
     "start_time": null,
     "status": "pending"
    },
    "tags": []
   },
   "outputs": [],
   "source": [
    "df.set_index('yyyy', inplace=True)"
   ]
  },
  {
   "cell_type": "code",
   "execution_count": null,
   "id": "b8c71085",
   "metadata": {
    "papermill": {
     "duration": null,
     "end_time": null,
     "exception": null,
     "start_time": null,
     "status": "pending"
    },
    "scrolled": true,
    "tags": []
   },
   "outputs": [],
   "source": [
    "plt.figure(figsize=(12, 6))\n",
    "plt.plot(df.index, df['avg_temp'], marker='o')\n",
    "plt.title('Average Temperature Over Time')\n",
    "plt.xlabel('Date')\n",
    "plt.ylabel('Average Temperature')\n",
    "plt.xticks(rotation=45)\n",
    "plt.grid(True)\n",
    "plt.tight_layout()\n",
    "plt.show()\n"
   ]
  },
  {
   "cell_type": "code",
   "execution_count": null,
   "id": "a3b36911",
   "metadata": {
    "papermill": {
     "duration": null,
     "end_time": null,
     "exception": null,
     "start_time": null,
     "status": "pending"
    },
    "scrolled": true,
    "tags": []
   },
   "outputs": [],
   "source": [
    "from statsmodels.tsa.seasonal import seasonal_decompose\n",
    "\n",
    "# Example: Seasonal decomposition of average temperature\n",
    "result = seasonal_decompose(df['avg_temp'], model='additive', period=12)  # assuming yearly seasonality (period=12)\n",
    "result.plot()\n",
    "plt.show()\n"
   ]
  }
 ],
 "metadata": {
  "kaggle": {
   "accelerator": "none",
   "dataSources": [
    {
     "datasetId": 5227165,
     "sourceId": 8713030,
     "sourceType": "datasetVersion"
    },
    {
     "datasetId": 5227615,
     "sourceId": 8713635,
     "sourceType": "datasetVersion"
    }
   ],
   "dockerImageVersionId": 30732,
   "isGpuEnabled": false,
   "isInternetEnabled": true,
   "language": "python",
   "sourceType": "notebook"
  },
  "kernelspec": {
   "display_name": "Python 3",
   "language": "python",
   "name": "python3"
  },
  "language_info": {
   "codemirror_mode": {
    "name": "ipython",
    "version": 3
   },
   "file_extension": ".py",
   "mimetype": "text/x-python",
   "name": "python",
   "nbconvert_exporter": "python",
   "pygments_lexer": "ipython3",
   "version": "3.10.13"
  },
  "papermill": {
   "default_parameters": {},
   "duration": 7.829916,
   "end_time": "2024-06-17T15:27:24.816121",
   "environment_variables": {},
   "exception": true,
   "input_path": "__notebook__.ipynb",
   "output_path": "__notebook__.ipynb",
   "parameters": {},
   "start_time": "2024-06-17T15:27:16.986205",
   "version": "2.5.0"
  }
 },
 "nbformat": 4,
 "nbformat_minor": 5
}
